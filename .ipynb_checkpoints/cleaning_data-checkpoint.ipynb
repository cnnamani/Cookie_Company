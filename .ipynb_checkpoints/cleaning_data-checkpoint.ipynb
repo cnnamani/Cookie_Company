{
 "cells": [
  {
   "cell_type": "code",
   "execution_count": 1,
   "id": "95faf3c5",
   "metadata": {},
   "outputs": [],
   "source": [
    "import pandas as pd\n"
   ]
  },
  {
   "cell_type": "code",
   "execution_count": 2,
   "id": "a6933044",
   "metadata": {},
   "outputs": [],
   "source": [
    "df_data= pd.read_excel('cookie_shop.xlsx')"
   ]
  },
  {
   "cell_type": "code",
   "execution_count": 3,
   "id": "96ac462d",
   "metadata": {},
   "outputs": [],
   "source": [
    "df = df_data.copy()"
   ]
  },
  {
   "cell_type": "code",
   "execution_count": 4,
   "id": "e990dcc1",
   "metadata": {},
   "outputs": [],
   "source": [
    "# configuring the dataset so that max rows and columns could be displayed"
   ]
  },
  {
   "cell_type": "code",
   "execution_count": 5,
   "id": "8aeed82d",
   "metadata": {},
   "outputs": [],
   "source": [
    "pd.set_option('display.max_rows',None)"
   ]
  },
  {
   "cell_type": "code",
   "execution_count": 6,
   "id": "2ade3e67",
   "metadata": {},
   "outputs": [
    {
     "data": {
      "text/html": [
       "<div>\n",
       "<style scoped>\n",
       "    .dataframe tbody tr th:only-of-type {\n",
       "        vertical-align: middle;\n",
       "    }\n",
       "\n",
       "    .dataframe tbody tr th {\n",
       "        vertical-align: top;\n",
       "    }\n",
       "\n",
       "    .dataframe thead th {\n",
       "        text-align: right;\n",
       "    }\n",
       "</style>\n",
       "<table border=\"1\" class=\"dataframe\">\n",
       "  <thead>\n",
       "    <tr style=\"text-align: right;\">\n",
       "      <th></th>\n",
       "      <th>Order ID</th>\n",
       "      <th>Unnamed: 1</th>\n",
       "      <th>Customer ID</th>\n",
       "      <th>Cookies Shipped</th>\n",
       "      <th>Revenue</th>\n",
       "      <th>Cost</th>\n",
       "      <th>Order Date</th>\n",
       "      <th>Ship Date</th>\n",
       "      <th>Order Status</th>\n",
       "    </tr>\n",
       "  </thead>\n",
       "  <tbody>\n",
       "    <tr>\n",
       "      <th>0</th>\n",
       "      <td>413383</td>\n",
       "      <td>NaN</td>\n",
       "      <td>152689 - YT Restaurants</td>\n",
       "      <td>936</td>\n",
       "      <td>4680</td>\n",
       "      <td>2340.0</td>\n",
       "      <td>2017-12-31</td>\n",
       "      <td>2018-01-05</td>\n",
       "      <td>Shipped</td>\n",
       "    </tr>\n",
       "    <tr>\n",
       "      <th>1</th>\n",
       "      <td>751142</td>\n",
       "      <td>NaN</td>\n",
       "      <td>985245 - Quick Bite Convenience Stores</td>\n",
       "      <td>987</td>\n",
       "      <td>4935</td>\n",
       "      <td>2467.5</td>\n",
       "      <td>2017-12-31</td>\n",
       "      <td>2018-01-04</td>\n",
       "      <td>Shipped</td>\n",
       "    </tr>\n",
       "    <tr>\n",
       "      <th>2</th>\n",
       "      <td>876056</td>\n",
       "      <td>NaN</td>\n",
       "      <td>985245 - Quick Bite Convenience Stores</td>\n",
       "      <td>270</td>\n",
       "      <td>1350</td>\n",
       "      <td>675.0</td>\n",
       "      <td>2017-12-30</td>\n",
       "      <td>2018-01-03</td>\n",
       "      <td>Shipped</td>\n",
       "    </tr>\n",
       "    <tr>\n",
       "      <th>3</th>\n",
       "      <td>548247</td>\n",
       "      <td>NaN</td>\n",
       "      <td>985245 - Quick Bite Convenience Stores</td>\n",
       "      <td>925</td>\n",
       "      <td>4625</td>\n",
       "      <td>2312.5</td>\n",
       "      <td>2017-12-30</td>\n",
       "      <td>2018-01-03</td>\n",
       "      <td>Shipped</td>\n",
       "    </tr>\n",
       "    <tr>\n",
       "      <th>4</th>\n",
       "      <td>626350</td>\n",
       "      <td>NaN</td>\n",
       "      <td>152689 - YT Restaurants</td>\n",
       "      <td>974</td>\n",
       "      <td>4870</td>\n",
       "      <td>2435.0</td>\n",
       "      <td>2017-12-29</td>\n",
       "      <td>2018-01-03</td>\n",
       "      <td>Shipped</td>\n",
       "    </tr>\n",
       "  </tbody>\n",
       "</table>\n",
       "</div>"
      ],
      "text/plain": [
       "  Order ID  Unnamed: 1                             Customer ID  \\\n",
       "0   413383         NaN                 152689 - YT Restaurants   \n",
       "1   751142         NaN  985245 - Quick Bite Convenience Stores   \n",
       "2   876056         NaN  985245 - Quick Bite Convenience Stores   \n",
       "3   548247         NaN  985245 - Quick Bite Convenience Stores   \n",
       "4   626350         NaN                 152689 - YT Restaurants   \n",
       "\n",
       "   Cookies Shipped  Revenue    Cost Order Date  Ship Date Order Status  \n",
       "0              936     4680  2340.0 2017-12-31 2018-01-05      Shipped  \n",
       "1              987     4935  2467.5 2017-12-31 2018-01-04      Shipped  \n",
       "2              270     1350   675.0 2017-12-30 2018-01-03      Shipped  \n",
       "3              925     4625  2312.5 2017-12-30 2018-01-03      Shipped  \n",
       "4              974     4870  2435.0 2017-12-29 2018-01-03      Shipped  "
      ]
     },
     "execution_count": 6,
     "metadata": {},
     "output_type": "execute_result"
    }
   ],
   "source": [
    "df.head()\n"
   ]
  },
  {
   "cell_type": "code",
   "execution_count": 7,
   "id": "e8922c9f",
   "metadata": {},
   "outputs": [],
   "source": [
    "# Let's get some quick information from our data as well as some statistical data from our data set."
   ]
  },
  {
   "cell_type": "code",
   "execution_count": 8,
   "id": "0b7d2ef4",
   "metadata": {},
   "outputs": [
    {
     "name": "stdout",
     "output_type": "stream",
     "text": [
      "<class 'pandas.core.frame.DataFrame'>\n",
      "RangeIndex: 816 entries, 0 to 815\n",
      "Data columns (total 9 columns):\n",
      " #   Column           Non-Null Count  Dtype         \n",
      "---  ------           --------------  -----         \n",
      " 0   Order ID         816 non-null    object        \n",
      " 1   Unnamed: 1       0 non-null      float64       \n",
      " 2   Customer ID      816 non-null    object        \n",
      " 3   Cookies Shipped  816 non-null    int64         \n",
      " 4   Revenue          816 non-null    int64         \n",
      " 5   Cost             816 non-null    float64       \n",
      " 6   Order Date       816 non-null    datetime64[ns]\n",
      " 7   Ship Date        816 non-null    datetime64[ns]\n",
      " 8   Order Status     816 non-null    object        \n",
      "dtypes: datetime64[ns](2), float64(2), int64(2), object(3)\n",
      "memory usage: 57.5+ KB\n"
     ]
    }
   ],
   "source": [
    "df.info()"
   ]
  },
  {
   "cell_type": "code",
   "execution_count": 9,
   "id": "8404964a",
   "metadata": {},
   "outputs": [
    {
     "data": {
      "text/html": [
       "<div>\n",
       "<style scoped>\n",
       "    .dataframe tbody tr th:only-of-type {\n",
       "        vertical-align: middle;\n",
       "    }\n",
       "\n",
       "    .dataframe tbody tr th {\n",
       "        vertical-align: top;\n",
       "    }\n",
       "\n",
       "    .dataframe thead th {\n",
       "        text-align: right;\n",
       "    }\n",
       "</style>\n",
       "<table border=\"1\" class=\"dataframe\">\n",
       "  <thead>\n",
       "    <tr style=\"text-align: right;\">\n",
       "      <th></th>\n",
       "      <th>Unnamed: 1</th>\n",
       "      <th>Cookies Shipped</th>\n",
       "      <th>Revenue</th>\n",
       "      <th>Cost</th>\n",
       "    </tr>\n",
       "  </thead>\n",
       "  <tbody>\n",
       "    <tr>\n",
       "      <th>count</th>\n",
       "      <td>0.0</td>\n",
       "      <td>816.000000</td>\n",
       "      <td>816.000000</td>\n",
       "      <td>816.000000</td>\n",
       "    </tr>\n",
       "    <tr>\n",
       "      <th>mean</th>\n",
       "      <td>NaN</td>\n",
       "      <td>510.509804</td>\n",
       "      <td>2552.549020</td>\n",
       "      <td>1276.274510</td>\n",
       "    </tr>\n",
       "    <tr>\n",
       "      <th>std</th>\n",
       "      <td>NaN</td>\n",
       "      <td>273.199538</td>\n",
       "      <td>1365.997691</td>\n",
       "      <td>682.998845</td>\n",
       "    </tr>\n",
       "    <tr>\n",
       "      <th>min</th>\n",
       "      <td>NaN</td>\n",
       "      <td>50.000000</td>\n",
       "      <td>250.000000</td>\n",
       "      <td>125.000000</td>\n",
       "    </tr>\n",
       "    <tr>\n",
       "      <th>25%</th>\n",
       "      <td>NaN</td>\n",
       "      <td>269.750000</td>\n",
       "      <td>1348.750000</td>\n",
       "      <td>674.375000</td>\n",
       "    </tr>\n",
       "    <tr>\n",
       "      <th>50%</th>\n",
       "      <td>NaN</td>\n",
       "      <td>496.500000</td>\n",
       "      <td>2482.500000</td>\n",
       "      <td>1241.250000</td>\n",
       "    </tr>\n",
       "    <tr>\n",
       "      <th>75%</th>\n",
       "      <td>NaN</td>\n",
       "      <td>761.250000</td>\n",
       "      <td>3806.250000</td>\n",
       "      <td>1903.125000</td>\n",
       "    </tr>\n",
       "    <tr>\n",
       "      <th>max</th>\n",
       "      <td>NaN</td>\n",
       "      <td>1000.000000</td>\n",
       "      <td>5000.000000</td>\n",
       "      <td>2500.000000</td>\n",
       "    </tr>\n",
       "  </tbody>\n",
       "</table>\n",
       "</div>"
      ],
      "text/plain": [
       "       Unnamed: 1  Cookies Shipped      Revenue         Cost\n",
       "count         0.0       816.000000   816.000000   816.000000\n",
       "mean          NaN       510.509804  2552.549020  1276.274510\n",
       "std           NaN       273.199538  1365.997691   682.998845\n",
       "min           NaN        50.000000   250.000000   125.000000\n",
       "25%           NaN       269.750000  1348.750000   674.375000\n",
       "50%           NaN       496.500000  2482.500000  1241.250000\n",
       "75%           NaN       761.250000  3806.250000  1903.125000\n",
       "max           NaN      1000.000000  5000.000000  2500.000000"
      ]
     },
     "execution_count": 9,
     "metadata": {},
     "output_type": "execute_result"
    }
   ],
   "source": [
    "df.describe()"
   ]
  },
  {
   "cell_type": "code",
   "execution_count": 10,
   "id": "d848354d",
   "metadata": {},
   "outputs": [],
   "source": [
    "# Cleaning and removing the unwanted values in the datat \n"
   ]
  },
  {
   "cell_type": "code",
   "execution_count": 11,
   "id": "fd8e9ef5",
   "metadata": {},
   "outputs": [],
   "source": [
    "df =df.drop('Unnamed: 1',axis = 1)"
   ]
  },
  {
   "cell_type": "code",
   "execution_count": 12,
   "id": "23aa234b",
   "metadata": {},
   "outputs": [],
   "source": [
    "# since we have many of our numerical variables in integers, lets convert the float values in the dataset to integers"
   ]
  },
  {
   "cell_type": "code",
   "execution_count": 15,
   "id": "48adce7b",
   "metadata": {},
   "outputs": [],
   "source": [
    "df['cost'] = df['Cost'].astype(int)"
   ]
  },
  {
   "cell_type": "code",
   "execution_count": 16,
   "id": "e560c817",
   "metadata": {
    "scrolled": false
   },
   "outputs": [
    {
     "data": {
      "text/html": [
       "<div>\n",
       "<style scoped>\n",
       "    .dataframe tbody tr th:only-of-type {\n",
       "        vertical-align: middle;\n",
       "    }\n",
       "\n",
       "    .dataframe tbody tr th {\n",
       "        vertical-align: top;\n",
       "    }\n",
       "\n",
       "    .dataframe thead th {\n",
       "        text-align: right;\n",
       "    }\n",
       "</style>\n",
       "<table border=\"1\" class=\"dataframe\">\n",
       "  <thead>\n",
       "    <tr style=\"text-align: right;\">\n",
       "      <th></th>\n",
       "      <th>Order ID</th>\n",
       "      <th>Customer ID</th>\n",
       "      <th>Cookies Shipped</th>\n",
       "      <th>Revenue</th>\n",
       "      <th>Cost</th>\n",
       "      <th>Order Date</th>\n",
       "      <th>Ship Date</th>\n",
       "      <th>Order Status</th>\n",
       "      <th>cost</th>\n",
       "    </tr>\n",
       "  </thead>\n",
       "  <tbody>\n",
       "    <tr>\n",
       "      <th>0</th>\n",
       "      <td>413383</td>\n",
       "      <td>152689 - YT Restaurants</td>\n",
       "      <td>936</td>\n",
       "      <td>4680</td>\n",
       "      <td>2340.0</td>\n",
       "      <td>2017-12-31</td>\n",
       "      <td>2018-01-05</td>\n",
       "      <td>Shipped</td>\n",
       "      <td>2340</td>\n",
       "    </tr>\n",
       "    <tr>\n",
       "      <th>1</th>\n",
       "      <td>751142</td>\n",
       "      <td>985245 - Quick Bite Convenience Stores</td>\n",
       "      <td>987</td>\n",
       "      <td>4935</td>\n",
       "      <td>2467.5</td>\n",
       "      <td>2017-12-31</td>\n",
       "      <td>2018-01-04</td>\n",
       "      <td>Shipped</td>\n",
       "      <td>2467</td>\n",
       "    </tr>\n",
       "    <tr>\n",
       "      <th>2</th>\n",
       "      <td>876056</td>\n",
       "      <td>985245 - Quick Bite Convenience Stores</td>\n",
       "      <td>270</td>\n",
       "      <td>1350</td>\n",
       "      <td>675.0</td>\n",
       "      <td>2017-12-30</td>\n",
       "      <td>2018-01-03</td>\n",
       "      <td>Shipped</td>\n",
       "      <td>675</td>\n",
       "    </tr>\n",
       "    <tr>\n",
       "      <th>3</th>\n",
       "      <td>548247</td>\n",
       "      <td>985245 - Quick Bite Convenience Stores</td>\n",
       "      <td>925</td>\n",
       "      <td>4625</td>\n",
       "      <td>2312.5</td>\n",
       "      <td>2017-12-30</td>\n",
       "      <td>2018-01-03</td>\n",
       "      <td>Shipped</td>\n",
       "      <td>2312</td>\n",
       "    </tr>\n",
       "    <tr>\n",
       "      <th>4</th>\n",
       "      <td>626350</td>\n",
       "      <td>152689 - YT Restaurants</td>\n",
       "      <td>974</td>\n",
       "      <td>4870</td>\n",
       "      <td>2435.0</td>\n",
       "      <td>2017-12-29</td>\n",
       "      <td>2018-01-03</td>\n",
       "      <td>Shipped</td>\n",
       "      <td>2435</td>\n",
       "    </tr>\n",
       "    <tr>\n",
       "      <th>5</th>\n",
       "      <td>XXXXXX</td>\n",
       "      <td>XXXXXX - Promo</td>\n",
       "      <td>715</td>\n",
       "      <td>3575</td>\n",
       "      <td>1787.5</td>\n",
       "      <td>2017-12-31</td>\n",
       "      <td>2018-01-02</td>\n",
       "      <td>Shipped</td>\n",
       "      <td>1787</td>\n",
       "    </tr>\n",
       "    <tr>\n",
       "      <th>6</th>\n",
       "      <td>200181</td>\n",
       "      <td>325698 - Cascade Grovers</td>\n",
       "      <td>454</td>\n",
       "      <td>2270</td>\n",
       "      <td>1135.0</td>\n",
       "      <td>2017-12-30</td>\n",
       "      <td>2018-01-02</td>\n",
       "      <td>Shipped</td>\n",
       "      <td>1135</td>\n",
       "    </tr>\n",
       "    <tr>\n",
       "      <th>7</th>\n",
       "      <td>711368</td>\n",
       "      <td>152689 - YT Restaurants</td>\n",
       "      <td>484</td>\n",
       "      <td>2420</td>\n",
       "      <td>1210.0</td>\n",
       "      <td>2017-12-28</td>\n",
       "      <td>2018-01-02</td>\n",
       "      <td>Shipped</td>\n",
       "      <td>1210</td>\n",
       "    </tr>\n",
       "    <tr>\n",
       "      <th>8</th>\n",
       "      <td>958419</td>\n",
       "      <td>325698 - Cascade Grovers</td>\n",
       "      <td>269</td>\n",
       "      <td>1345</td>\n",
       "      <td>672.5</td>\n",
       "      <td>2017-12-29</td>\n",
       "      <td>2018-01-01</td>\n",
       "      <td>Shipped</td>\n",
       "      <td>672</td>\n",
       "    </tr>\n",
       "    <tr>\n",
       "      <th>9</th>\n",
       "      <td>808349</td>\n",
       "      <td>985245 - Quick Bite Convenience Stores</td>\n",
       "      <td>396</td>\n",
       "      <td>1980</td>\n",
       "      <td>990.0</td>\n",
       "      <td>2017-12-29</td>\n",
       "      <td>2018-01-01</td>\n",
       "      <td>Shipped</td>\n",
       "      <td>990</td>\n",
       "    </tr>\n",
       "  </tbody>\n",
       "</table>\n",
       "</div>"
      ],
      "text/plain": [
       "  Order ID                             Customer ID  Cookies Shipped  Revenue  \\\n",
       "0   413383                 152689 - YT Restaurants              936     4680   \n",
       "1   751142  985245 - Quick Bite Convenience Stores              987     4935   \n",
       "2   876056  985245 - Quick Bite Convenience Stores              270     1350   \n",
       "3   548247  985245 - Quick Bite Convenience Stores              925     4625   \n",
       "4   626350                 152689 - YT Restaurants              974     4870   \n",
       "5   XXXXXX                          XXXXXX - Promo              715     3575   \n",
       "6   200181                325698 - Cascade Grovers              454     2270   \n",
       "7   711368                 152689 - YT Restaurants              484     2420   \n",
       "8   958419                325698 - Cascade Grovers              269     1345   \n",
       "9   808349  985245 - Quick Bite Convenience Stores              396     1980   \n",
       "\n",
       "     Cost Order Date  Ship Date Order Status  cost  \n",
       "0  2340.0 2017-12-31 2018-01-05      Shipped  2340  \n",
       "1  2467.5 2017-12-31 2018-01-04      Shipped  2467  \n",
       "2   675.0 2017-12-30 2018-01-03      Shipped   675  \n",
       "3  2312.5 2017-12-30 2018-01-03      Shipped  2312  \n",
       "4  2435.0 2017-12-29 2018-01-03      Shipped  2435  \n",
       "5  1787.5 2017-12-31 2018-01-02      Shipped  1787  \n",
       "6  1135.0 2017-12-30 2018-01-02      Shipped  1135  \n",
       "7  1210.0 2017-12-28 2018-01-02      Shipped  1210  \n",
       "8   672.5 2017-12-29 2018-01-01      Shipped   672  \n",
       "9   990.0 2017-12-29 2018-01-01      Shipped   990  "
      ]
     },
     "execution_count": 16,
     "metadata": {},
     "output_type": "execute_result"
    }
   ],
   "source": [
    "df.head(10)"
   ]
  },
  {
   "cell_type": "code",
   "execution_count": 17,
   "id": "93884234",
   "metadata": {},
   "outputs": [],
   "source": [
    "# removing the 'xxxxx' from the data"
   ]
  },
  {
   "cell_type": "code",
   "execution_count": 18,
   "id": "1de49264",
   "metadata": {},
   "outputs": [],
   "source": [
    "for x in range(df.shape[0]):\n",
    "    if df.loc[x,'Order ID']=='XXXXXX':\n",
    "        df.drop(x,inplace = True)"
   ]
  },
  {
   "cell_type": "code",
   "execution_count": 19,
   "id": "be8b145c",
   "metadata": {},
   "outputs": [],
   "source": [
    "# If you look at the Customer ID, you can see that splitting it would be ideal for us to derive Customer names and IDs."
   ]
  },
  {
   "cell_type": "code",
   "execution_count": 20,
   "id": "71a0b010",
   "metadata": {},
   "outputs": [],
   "source": [
    "df['Customer_ID'] =df['Customer ID'].apply(lambda x: x.split('-')[:1]).str[0]"
   ]
  },
  {
   "cell_type": "code",
   "execution_count": 21,
   "id": "e83c2d98",
   "metadata": {},
   "outputs": [],
   "source": [
    "df['Customer_Name'] =df['Customer ID'].apply(lambda x: x.split('-')[1:]).str[0]"
   ]
  },
  {
   "cell_type": "code",
   "execution_count": 22,
   "id": "c78c1d26",
   "metadata": {},
   "outputs": [],
   "source": [
    "# Now let's drop the original Customer ID"
   ]
  },
  {
   "cell_type": "code",
   "execution_count": 23,
   "id": "9d19a316",
   "metadata": {},
   "outputs": [],
   "source": [
    "df.drop('Customer ID',axis =1,inplace  = True)"
   ]
  },
  {
   "cell_type": "code",
   "execution_count": 24,
   "id": "6f0d5b5c",
   "metadata": {},
   "outputs": [],
   "source": [
    "# Now we can rearrange our columns "
   ]
  },
  {
   "cell_type": "code",
   "execution_count": 25,
   "id": "f8590056",
   "metadata": {},
   "outputs": [],
   "source": [
    "df=df[['Order ID','Customer_Name', 'Customer_ID', 'Cookies Shipped', 'Revenue', 'Cost', 'Order Date',\n",
    "       'Ship Date', 'Order Status' ]]"
   ]
  },
  {
   "cell_type": "code",
   "execution_count": 26,
   "id": "e8d2ecce",
   "metadata": {},
   "outputs": [],
   "source": [
    "# fixing the columns in a suitable format\n"
   ]
  },
  {
   "cell_type": "code",
   "execution_count": 27,
   "id": "c82e5c9d",
   "metadata": {},
   "outputs": [],
   "source": [
    "df.columns =df.columns.str.replace(' ','_')"
   ]
  },
  {
   "cell_type": "code",
   "execution_count": 28,
   "id": "d1df0e65",
   "metadata": {},
   "outputs": [],
   "source": [
    "df.columns=[x.upper() for x in df.columns]"
   ]
  },
  {
   "cell_type": "code",
   "execution_count": 29,
   "id": "c4ab0b28",
   "metadata": {},
   "outputs": [
    {
     "data": {
      "text/html": [
       "<div>\n",
       "<style scoped>\n",
       "    .dataframe tbody tr th:only-of-type {\n",
       "        vertical-align: middle;\n",
       "    }\n",
       "\n",
       "    .dataframe tbody tr th {\n",
       "        vertical-align: top;\n",
       "    }\n",
       "\n",
       "    .dataframe thead th {\n",
       "        text-align: right;\n",
       "    }\n",
       "</style>\n",
       "<table border=\"1\" class=\"dataframe\">\n",
       "  <thead>\n",
       "    <tr style=\"text-align: right;\">\n",
       "      <th></th>\n",
       "      <th>ORDER_ID</th>\n",
       "      <th>CUSTOMER_NAME</th>\n",
       "      <th>CUSTOMER_ID</th>\n",
       "      <th>COOKIES_SHIPPED</th>\n",
       "      <th>REVENUE</th>\n",
       "      <th>COST</th>\n",
       "      <th>ORDER_DATE</th>\n",
       "      <th>SHIP_DATE</th>\n",
       "      <th>ORDER_STATUS</th>\n",
       "    </tr>\n",
       "  </thead>\n",
       "  <tbody>\n",
       "    <tr>\n",
       "      <th>0</th>\n",
       "      <td>413383</td>\n",
       "      <td>YT Restaurants</td>\n",
       "      <td>152689</td>\n",
       "      <td>936</td>\n",
       "      <td>4680</td>\n",
       "      <td>2340.0</td>\n",
       "      <td>2017-12-31</td>\n",
       "      <td>2018-01-05</td>\n",
       "      <td>Shipped</td>\n",
       "    </tr>\n",
       "    <tr>\n",
       "      <th>1</th>\n",
       "      <td>751142</td>\n",
       "      <td>Quick Bite Convenience Stores</td>\n",
       "      <td>985245</td>\n",
       "      <td>987</td>\n",
       "      <td>4935</td>\n",
       "      <td>2467.5</td>\n",
       "      <td>2017-12-31</td>\n",
       "      <td>2018-01-04</td>\n",
       "      <td>Shipped</td>\n",
       "    </tr>\n",
       "    <tr>\n",
       "      <th>2</th>\n",
       "      <td>876056</td>\n",
       "      <td>Quick Bite Convenience Stores</td>\n",
       "      <td>985245</td>\n",
       "      <td>270</td>\n",
       "      <td>1350</td>\n",
       "      <td>675.0</td>\n",
       "      <td>2017-12-30</td>\n",
       "      <td>2018-01-03</td>\n",
       "      <td>Shipped</td>\n",
       "    </tr>\n",
       "    <tr>\n",
       "      <th>3</th>\n",
       "      <td>548247</td>\n",
       "      <td>Quick Bite Convenience Stores</td>\n",
       "      <td>985245</td>\n",
       "      <td>925</td>\n",
       "      <td>4625</td>\n",
       "      <td>2312.5</td>\n",
       "      <td>2017-12-30</td>\n",
       "      <td>2018-01-03</td>\n",
       "      <td>Shipped</td>\n",
       "    </tr>\n",
       "    <tr>\n",
       "      <th>4</th>\n",
       "      <td>626350</td>\n",
       "      <td>YT Restaurants</td>\n",
       "      <td>152689</td>\n",
       "      <td>974</td>\n",
       "      <td>4870</td>\n",
       "      <td>2435.0</td>\n",
       "      <td>2017-12-29</td>\n",
       "      <td>2018-01-03</td>\n",
       "      <td>Shipped</td>\n",
       "    </tr>\n",
       "  </tbody>\n",
       "</table>\n",
       "</div>"
      ],
      "text/plain": [
       "  ORDER_ID                   CUSTOMER_NAME CUSTOMER_ID  COOKIES_SHIPPED  \\\n",
       "0   413383                  YT Restaurants     152689               936   \n",
       "1   751142   Quick Bite Convenience Stores     985245               987   \n",
       "2   876056   Quick Bite Convenience Stores     985245               270   \n",
       "3   548247   Quick Bite Convenience Stores     985245               925   \n",
       "4   626350                  YT Restaurants     152689               974   \n",
       "\n",
       "   REVENUE    COST ORDER_DATE  SHIP_DATE ORDER_STATUS  \n",
       "0     4680  2340.0 2017-12-31 2018-01-05      Shipped  \n",
       "1     4935  2467.5 2017-12-31 2018-01-04      Shipped  \n",
       "2     1350   675.0 2017-12-30 2018-01-03      Shipped  \n",
       "3     4625  2312.5 2017-12-30 2018-01-03      Shipped  \n",
       "4     4870  2435.0 2017-12-29 2018-01-03      Shipped  "
      ]
     },
     "execution_count": 29,
     "metadata": {},
     "output_type": "execute_result"
    }
   ],
   "source": [
    "df.head()"
   ]
  },
  {
   "cell_type": "code",
   "execution_count": 31,
   "id": "fcc6032e",
   "metadata": {},
   "outputs": [],
   "source": [
    "df.to_excel('shop2analysis.xlsx')"
   ]
  },
  {
   "cell_type": "code",
   "execution_count": null,
   "id": "26d6d828",
   "metadata": {},
   "outputs": [],
   "source": [
    "# In my next project, I plan to analyse the data to see if I can glean any useful information."
   ]
  }
 ],
 "metadata": {
  "kernelspec": {
   "display_name": "Python 3 (ipykernel)",
   "language": "python",
   "name": "python3"
  },
  "language_info": {
   "codemirror_mode": {
    "name": "ipython",
    "version": 3
   },
   "file_extension": ".py",
   "mimetype": "text/x-python",
   "name": "python",
   "nbconvert_exporter": "python",
   "pygments_lexer": "ipython3",
   "version": "3.9.7"
  }
 },
 "nbformat": 4,
 "nbformat_minor": 5
}
