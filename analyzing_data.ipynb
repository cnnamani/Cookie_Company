{
 "cells": [
  {
   "cell_type": "code",
   "execution_count": 1,
   "id": "ec18cebf",
   "metadata": {},
   "outputs": [],
   "source": [
    "# This is a continuation of our shop project, which I previously cleaned, and we will now gain some insight into the data."
   ]
  },
  {
   "cell_type": "code",
   "execution_count": 2,
   "id": "25dab6e6",
   "metadata": {},
   "outputs": [],
   "source": [
    "import pandas as pd\n",
    "from datetime import date\n",
    "import numpy as np\n",
    "import matplotlib.pyplot as plt"
   ]
  },
  {
   "cell_type": "code",
   "execution_count": 3,
   "id": "2d3bf91e",
   "metadata": {},
   "outputs": [],
   "source": [
    "df_rawdata = pd.read_excel('shopcleaned.xlsx')"
   ]
  },
  {
   "cell_type": "code",
   "execution_count": 4,
   "id": "b112f95a",
   "metadata": {},
   "outputs": [],
   "source": [
    "df = df_rawdata.copy()"
   ]
  },
  {
   "cell_type": "code",
   "execution_count": 5,
   "id": "130b02a3",
   "metadata": {},
   "outputs": [],
   "source": [
    "pd.set_option('display.max_rows',None)"
   ]
  },
  {
   "cell_type": "code",
   "execution_count": 6,
   "id": "a507d0aa",
   "metadata": {},
   "outputs": [
    {
     "data": {
      "text/html": [
       "<div>\n",
       "<style scoped>\n",
       "    .dataframe tbody tr th:only-of-type {\n",
       "        vertical-align: middle;\n",
       "    }\n",
       "\n",
       "    .dataframe tbody tr th {\n",
       "        vertical-align: top;\n",
       "    }\n",
       "\n",
       "    .dataframe thead th {\n",
       "        text-align: right;\n",
       "    }\n",
       "</style>\n",
       "<table border=\"1\" class=\"dataframe\">\n",
       "  <thead>\n",
       "    <tr style=\"text-align: right;\">\n",
       "      <th></th>\n",
       "      <th>Unnamed: 0</th>\n",
       "      <th>ORDER_ID</th>\n",
       "      <th>CUSTOMER_NAME</th>\n",
       "      <th>CUSTOMER_ID</th>\n",
       "      <th>COOKIES_SHIPPED</th>\n",
       "      <th>REVENUE</th>\n",
       "      <th>COST</th>\n",
       "      <th>ORDER_DATE</th>\n",
       "      <th>SHIP_DATE</th>\n",
       "      <th>ORDER_STATUS</th>\n",
       "    </tr>\n",
       "  </thead>\n",
       "  <tbody>\n",
       "    <tr>\n",
       "      <th>0</th>\n",
       "      <td>0</td>\n",
       "      <td>413383</td>\n",
       "      <td>YT Restaurants</td>\n",
       "      <td>152689</td>\n",
       "      <td>936</td>\n",
       "      <td>4680</td>\n",
       "      <td>2340.0</td>\n",
       "      <td>2017-12-31</td>\n",
       "      <td>2018-01-05</td>\n",
       "      <td>Shipped</td>\n",
       "    </tr>\n",
       "    <tr>\n",
       "      <th>1</th>\n",
       "      <td>1</td>\n",
       "      <td>751142</td>\n",
       "      <td>Quick Bite Convenience Stores</td>\n",
       "      <td>985245</td>\n",
       "      <td>987</td>\n",
       "      <td>4935</td>\n",
       "      <td>2467.5</td>\n",
       "      <td>2017-12-31</td>\n",
       "      <td>2018-01-04</td>\n",
       "      <td>Shipped</td>\n",
       "    </tr>\n",
       "    <tr>\n",
       "      <th>2</th>\n",
       "      <td>2</td>\n",
       "      <td>876056</td>\n",
       "      <td>Quick Bite Convenience Stores</td>\n",
       "      <td>985245</td>\n",
       "      <td>270</td>\n",
       "      <td>1350</td>\n",
       "      <td>675.0</td>\n",
       "      <td>2017-12-30</td>\n",
       "      <td>2018-01-03</td>\n",
       "      <td>Shipped</td>\n",
       "    </tr>\n",
       "    <tr>\n",
       "      <th>3</th>\n",
       "      <td>3</td>\n",
       "      <td>548247</td>\n",
       "      <td>Quick Bite Convenience Stores</td>\n",
       "      <td>985245</td>\n",
       "      <td>925</td>\n",
       "      <td>4625</td>\n",
       "      <td>2312.5</td>\n",
       "      <td>2017-12-30</td>\n",
       "      <td>2018-01-03</td>\n",
       "      <td>Shipped</td>\n",
       "    </tr>\n",
       "    <tr>\n",
       "      <th>4</th>\n",
       "      <td>4</td>\n",
       "      <td>626350</td>\n",
       "      <td>YT Restaurants</td>\n",
       "      <td>152689</td>\n",
       "      <td>974</td>\n",
       "      <td>4870</td>\n",
       "      <td>2435.0</td>\n",
       "      <td>2017-12-29</td>\n",
       "      <td>2018-01-03</td>\n",
       "      <td>Shipped</td>\n",
       "    </tr>\n",
       "  </tbody>\n",
       "</table>\n",
       "</div>"
      ],
      "text/plain": [
       "   Unnamed: 0  ORDER_ID                   CUSTOMER_NAME  CUSTOMER_ID  \\\n",
       "0           0    413383                  YT Restaurants       152689   \n",
       "1           1    751142   Quick Bite Convenience Stores       985245   \n",
       "2           2    876056   Quick Bite Convenience Stores       985245   \n",
       "3           3    548247   Quick Bite Convenience Stores       985245   \n",
       "4           4    626350                  YT Restaurants       152689   \n",
       "\n",
       "   COOKIES_SHIPPED  REVENUE    COST ORDER_DATE  SHIP_DATE ORDER_STATUS  \n",
       "0              936     4680  2340.0 2017-12-31 2018-01-05      Shipped  \n",
       "1              987     4935  2467.5 2017-12-31 2018-01-04      Shipped  \n",
       "2              270     1350   675.0 2017-12-30 2018-01-03      Shipped  \n",
       "3              925     4625  2312.5 2017-12-30 2018-01-03      Shipped  \n",
       "4              974     4870  2435.0 2017-12-29 2018-01-03      Shipped  "
      ]
     },
     "execution_count": 6,
     "metadata": {},
     "output_type": "execute_result"
    }
   ],
   "source": [
    "df.head()"
   ]
  },
  {
   "cell_type": "code",
   "execution_count": 7,
   "id": "abb16707",
   "metadata": {},
   "outputs": [],
   "source": [
    "# for no apparent reason, I'm not sure how the unnamed column above appeared to be there given that I had already cleaned the data and removed it.\n",
    " all unidentified columns before"
   ]
  },
  {
   "cell_type": "code",
   "execution_count": 8,
   "id": "a46122d3",
   "metadata": {},
   "outputs": [],
   "source": [
    "df = df.drop('Unnamed: 0',axis = 1)"
   ]
  },
  {
   "cell_type": "code",
   "execution_count": 9,
   "id": "9132e50d",
   "metadata": {},
   "outputs": [],
   "source": [
    "# Using the data set, we can calculate the profit for each shipment."
   ]
  },
  {
   "cell_type": "code",
   "execution_count": 10,
   "id": "a9ac31dd",
   "metadata": {},
   "outputs": [],
   "source": [
    "df['PROFIT'] =  df['REVENUE']-df['COST']"
   ]
  },
  {
   "cell_type": "code",
   "execution_count": 11,
   "id": "6c8353ac",
   "metadata": {},
   "outputs": [],
   "source": [
    "# I wanted to get the months too but we don't have any order that is one month and above and below is the formula to confirm it.\n",
    "# However, when you use the formula below, some data might give you 1 for the month becuse it counts each month in days."
   ]
  },
  {
   "cell_type": "code",
   "execution_count": 12,
   "id": "37963075",
   "metadata": {},
   "outputs": [],
   "source": [
    "#df['Total Month']=((df['Ship Date'].dt.year - df['Order Date'].dt.year)*12)+ (df['Ship Date'].dt.month - df['Order Date'].dt.month)\n"
   ]
  },
  {
   "cell_type": "code",
   "execution_count": 13,
   "id": "50661c0e",
   "metadata": {},
   "outputs": [],
   "source": [
    "# Total days it took before the order was shipped"
   ]
  },
  {
   "cell_type": "code",
   "execution_count": 14,
   "id": "7ea64d40",
   "metadata": {},
   "outputs": [],
   "source": [
    "df['TOTAL_DAYS'] = df['SHIP_DATE']- df['ORDER_DATE']"
   ]
  },
  {
   "cell_type": "code",
   "execution_count": 15,
   "id": "4c727a0a",
   "metadata": {},
   "outputs": [
    {
     "data": {
      "text/html": [
       "<div>\n",
       "<style scoped>\n",
       "    .dataframe tbody tr th:only-of-type {\n",
       "        vertical-align: middle;\n",
       "    }\n",
       "\n",
       "    .dataframe tbody tr th {\n",
       "        vertical-align: top;\n",
       "    }\n",
       "\n",
       "    .dataframe thead th {\n",
       "        text-align: right;\n",
       "    }\n",
       "</style>\n",
       "<table border=\"1\" class=\"dataframe\">\n",
       "  <thead>\n",
       "    <tr style=\"text-align: right;\">\n",
       "      <th></th>\n",
       "      <th>ORDER_ID</th>\n",
       "      <th>CUSTOMER_NAME</th>\n",
       "      <th>CUSTOMER_ID</th>\n",
       "      <th>COOKIES_SHIPPED</th>\n",
       "      <th>REVENUE</th>\n",
       "      <th>COST</th>\n",
       "      <th>ORDER_DATE</th>\n",
       "      <th>SHIP_DATE</th>\n",
       "      <th>ORDER_STATUS</th>\n",
       "      <th>PROFIT</th>\n",
       "      <th>TOTAL_DAYS</th>\n",
       "    </tr>\n",
       "  </thead>\n",
       "  <tbody>\n",
       "    <tr>\n",
       "      <th>0</th>\n",
       "      <td>413383</td>\n",
       "      <td>YT Restaurants</td>\n",
       "      <td>152689</td>\n",
       "      <td>936</td>\n",
       "      <td>4680</td>\n",
       "      <td>2340.0</td>\n",
       "      <td>2017-12-31</td>\n",
       "      <td>2018-01-05</td>\n",
       "      <td>Shipped</td>\n",
       "      <td>2340.0</td>\n",
       "      <td>5 days</td>\n",
       "    </tr>\n",
       "    <tr>\n",
       "      <th>1</th>\n",
       "      <td>751142</td>\n",
       "      <td>Quick Bite Convenience Stores</td>\n",
       "      <td>985245</td>\n",
       "      <td>987</td>\n",
       "      <td>4935</td>\n",
       "      <td>2467.5</td>\n",
       "      <td>2017-12-31</td>\n",
       "      <td>2018-01-04</td>\n",
       "      <td>Shipped</td>\n",
       "      <td>2467.5</td>\n",
       "      <td>4 days</td>\n",
       "    </tr>\n",
       "    <tr>\n",
       "      <th>2</th>\n",
       "      <td>876056</td>\n",
       "      <td>Quick Bite Convenience Stores</td>\n",
       "      <td>985245</td>\n",
       "      <td>270</td>\n",
       "      <td>1350</td>\n",
       "      <td>675.0</td>\n",
       "      <td>2017-12-30</td>\n",
       "      <td>2018-01-03</td>\n",
       "      <td>Shipped</td>\n",
       "      <td>675.0</td>\n",
       "      <td>4 days</td>\n",
       "    </tr>\n",
       "  </tbody>\n",
       "</table>\n",
       "</div>"
      ],
      "text/plain": [
       "   ORDER_ID                   CUSTOMER_NAME  CUSTOMER_ID  COOKIES_SHIPPED  \\\n",
       "0    413383                  YT Restaurants       152689              936   \n",
       "1    751142   Quick Bite Convenience Stores       985245              987   \n",
       "2    876056   Quick Bite Convenience Stores       985245              270   \n",
       "\n",
       "   REVENUE    COST ORDER_DATE  SHIP_DATE ORDER_STATUS  PROFIT TOTAL_DAYS  \n",
       "0     4680  2340.0 2017-12-31 2018-01-05      Shipped  2340.0     5 days  \n",
       "1     4935  2467.5 2017-12-31 2018-01-04      Shipped  2467.5     4 days  \n",
       "2     1350   675.0 2017-12-30 2018-01-03      Shipped   675.0     4 days  "
      ]
     },
     "execution_count": 15,
     "metadata": {},
     "output_type": "execute_result"
    }
   ],
   "source": [
    "df.head(3)"
   ]
  },
  {
   "cell_type": "code",
   "execution_count": 16,
   "id": "f9de6a14",
   "metadata": {},
   "outputs": [],
   "source": [
    "# checking the correlation to see the relationships and 'cookies_shipped' seems to have a high correlation with the other data"
   ]
  },
  {
   "cell_type": "code",
   "execution_count": 17,
   "id": "6ea90722",
   "metadata": {},
   "outputs": [
    {
     "data": {
      "text/html": [
       "<div>\n",
       "<style scoped>\n",
       "    .dataframe tbody tr th:only-of-type {\n",
       "        vertical-align: middle;\n",
       "    }\n",
       "\n",
       "    .dataframe tbody tr th {\n",
       "        vertical-align: top;\n",
       "    }\n",
       "\n",
       "    .dataframe thead th {\n",
       "        text-align: right;\n",
       "    }\n",
       "</style>\n",
       "<table border=\"1\" class=\"dataframe\">\n",
       "  <thead>\n",
       "    <tr style=\"text-align: right;\">\n",
       "      <th></th>\n",
       "      <th>ORDER_ID</th>\n",
       "      <th>CUSTOMER_ID</th>\n",
       "      <th>COOKIES_SHIPPED</th>\n",
       "      <th>REVENUE</th>\n",
       "      <th>COST</th>\n",
       "      <th>PROFIT</th>\n",
       "    </tr>\n",
       "  </thead>\n",
       "  <tbody>\n",
       "    <tr>\n",
       "      <th>ORDER_ID</th>\n",
       "      <td>1.000000</td>\n",
       "      <td>0.013501</td>\n",
       "      <td>-0.064835</td>\n",
       "      <td>-0.064835</td>\n",
       "      <td>-0.064835</td>\n",
       "      <td>-0.064835</td>\n",
       "    </tr>\n",
       "    <tr>\n",
       "      <th>CUSTOMER_ID</th>\n",
       "      <td>0.013501</td>\n",
       "      <td>1.000000</td>\n",
       "      <td>-0.055464</td>\n",
       "      <td>-0.055464</td>\n",
       "      <td>-0.055464</td>\n",
       "      <td>-0.055464</td>\n",
       "    </tr>\n",
       "    <tr>\n",
       "      <th>COOKIES_SHIPPED</th>\n",
       "      <td>-0.064835</td>\n",
       "      <td>-0.055464</td>\n",
       "      <td>1.000000</td>\n",
       "      <td>1.000000</td>\n",
       "      <td>1.000000</td>\n",
       "      <td>1.000000</td>\n",
       "    </tr>\n",
       "    <tr>\n",
       "      <th>REVENUE</th>\n",
       "      <td>-0.064835</td>\n",
       "      <td>-0.055464</td>\n",
       "      <td>1.000000</td>\n",
       "      <td>1.000000</td>\n",
       "      <td>1.000000</td>\n",
       "      <td>1.000000</td>\n",
       "    </tr>\n",
       "    <tr>\n",
       "      <th>COST</th>\n",
       "      <td>-0.064835</td>\n",
       "      <td>-0.055464</td>\n",
       "      <td>1.000000</td>\n",
       "      <td>1.000000</td>\n",
       "      <td>1.000000</td>\n",
       "      <td>1.000000</td>\n",
       "    </tr>\n",
       "    <tr>\n",
       "      <th>PROFIT</th>\n",
       "      <td>-0.064835</td>\n",
       "      <td>-0.055464</td>\n",
       "      <td>1.000000</td>\n",
       "      <td>1.000000</td>\n",
       "      <td>1.000000</td>\n",
       "      <td>1.000000</td>\n",
       "    </tr>\n",
       "  </tbody>\n",
       "</table>\n",
       "</div>"
      ],
      "text/plain": [
       "                 ORDER_ID  CUSTOMER_ID  COOKIES_SHIPPED   REVENUE      COST  \\\n",
       "ORDER_ID         1.000000     0.013501        -0.064835 -0.064835 -0.064835   \n",
       "CUSTOMER_ID      0.013501     1.000000        -0.055464 -0.055464 -0.055464   \n",
       "COOKIES_SHIPPED -0.064835    -0.055464         1.000000  1.000000  1.000000   \n",
       "REVENUE         -0.064835    -0.055464         1.000000  1.000000  1.000000   \n",
       "COST            -0.064835    -0.055464         1.000000  1.000000  1.000000   \n",
       "PROFIT          -0.064835    -0.055464         1.000000  1.000000  1.000000   \n",
       "\n",
       "                   PROFIT  \n",
       "ORDER_ID        -0.064835  \n",
       "CUSTOMER_ID     -0.055464  \n",
       "COOKIES_SHIPPED  1.000000  \n",
       "REVENUE          1.000000  \n",
       "COST             1.000000  \n",
       "PROFIT           1.000000  "
      ]
     },
     "execution_count": 17,
     "metadata": {},
     "output_type": "execute_result"
    }
   ],
   "source": [
    "df.corr()"
   ]
  },
  {
   "cell_type": "code",
   "execution_count": 18,
   "id": "c9b0bb6d",
   "metadata": {},
   "outputs": [],
   "source": [
    "# this shows the total cost,Revenue,profit,and quantity of cookies shipped to each customer. Cascade Grovers generated the \n",
    "# highest profit"
   ]
  },
  {
   "cell_type": "code",
   "execution_count": 19,
   "id": "fe0c2495",
   "metadata": {},
   "outputs": [
    {
     "data": {
      "text/html": [
       "<div>\n",
       "<style scoped>\n",
       "    .dataframe tbody tr th:only-of-type {\n",
       "        vertical-align: middle;\n",
       "    }\n",
       "\n",
       "    .dataframe tbody tr th {\n",
       "        vertical-align: top;\n",
       "    }\n",
       "\n",
       "    .dataframe thead th {\n",
       "        text-align: right;\n",
       "    }\n",
       "</style>\n",
       "<table border=\"1\" class=\"dataframe\">\n",
       "  <thead>\n",
       "    <tr style=\"text-align: right;\">\n",
       "      <th></th>\n",
       "      <th>COST</th>\n",
       "      <th>REVENUE</th>\n",
       "      <th>PROFIT</th>\n",
       "      <th>COOKIES_SHIPPED</th>\n",
       "    </tr>\n",
       "    <tr>\n",
       "      <th>CUSTOMER_NAME</th>\n",
       "      <th></th>\n",
       "      <th></th>\n",
       "      <th></th>\n",
       "      <th></th>\n",
       "    </tr>\n",
       "  </thead>\n",
       "  <tbody>\n",
       "    <tr>\n",
       "      <th>Acme Grocery Stores</th>\n",
       "      <td>72667.5</td>\n",
       "      <td>145335.0</td>\n",
       "      <td>72667.5</td>\n",
       "      <td>29067.0</td>\n",
       "    </tr>\n",
       "    <tr>\n",
       "      <th>Cascade Grovers</th>\n",
       "      <td>305955.0</td>\n",
       "      <td>611910.0</td>\n",
       "      <td>305955.0</td>\n",
       "      <td>122382.0</td>\n",
       "    </tr>\n",
       "    <tr>\n",
       "      <th>Park &amp; Eat LLC</th>\n",
       "      <td>176397.5</td>\n",
       "      <td>352795.0</td>\n",
       "      <td>176397.5</td>\n",
       "      <td>70559.0</td>\n",
       "    </tr>\n",
       "    <tr>\n",
       "      <th>Quick Bite Convenience Stores</th>\n",
       "      <td>239610.0</td>\n",
       "      <td>479220.0</td>\n",
       "      <td>239610.0</td>\n",
       "      <td>95844.0</td>\n",
       "    </tr>\n",
       "    <tr>\n",
       "      <th>YT Restaurants</th>\n",
       "      <td>223840.0</td>\n",
       "      <td>447680.0</td>\n",
       "      <td>223840.0</td>\n",
       "      <td>89536.0</td>\n",
       "    </tr>\n",
       "  </tbody>\n",
       "</table>\n",
       "</div>"
      ],
      "text/plain": [
       "                                    COST   REVENUE    PROFIT  COOKIES_SHIPPED\n",
       "CUSTOMER_NAME                                                                \n",
       " Acme Grocery Stores             72667.5  145335.0   72667.5          29067.0\n",
       " Cascade Grovers                305955.0  611910.0  305955.0         122382.0\n",
       " Park & Eat LLC                 176397.5  352795.0  176397.5          70559.0\n",
       " Quick Bite Convenience Stores  239610.0  479220.0  239610.0          95844.0\n",
       " YT Restaurants                 223840.0  447680.0  223840.0          89536.0"
      ]
     },
     "execution_count": 19,
     "metadata": {},
     "output_type": "execute_result"
    }
   ],
   "source": [
    "df.groupby('CUSTOMER_NAME')[['COST','REVENUE','PROFIT','COOKIES_SHIPPED']].apply(pd.Series.sum)"
   ]
  },
  {
   "cell_type": "code",
   "execution_count": 20,
   "id": "4ba9dadb",
   "metadata": {},
   "outputs": [],
   "source": [
    "# plot graph to show the relationship between Cost and Revenue"
   ]
  },
  {
   "cell_type": "code",
   "execution_count": 21,
   "id": "7ec6afd4",
   "metadata": {},
   "outputs": [],
   "source": [
    "x = df['COST']\n",
    "y = df['REVENUE']"
   ]
  },
  {
   "cell_type": "code",
   "execution_count": 22,
   "id": "11d98464",
   "metadata": {},
   "outputs": [
    {
     "data": {
      "image/png": "[encoded data removed]",
      "text/plain": [
       "<Figure size 432x288 with 1 Axes>"
      ]
     },
     "metadata": {
      "needs_background": "light"
     },
     "output_type": "display_data"
    }
   ],
   "source": [
    "plt.scatter(x,y)\n",
    "plt.show()"
   ]
  },
  {
   "cell_type": "code",
   "execution_count": 23,
   "id": "8586ac30",
   "metadata": {},
   "outputs": [],
   "source": [
    "df.to_excel('shop4model.xlsx')"
   ]
  },
  {
   "cell_type": "code",
   "execution_count": 24,
   "id": "8e1139bc",
   "metadata": {},
   "outputs": [],
   "source": [
    "# For my next project, I plan to create a model that predicts revenue based on a given amount of cost."
   ]
  }
 ],
 "metadata": {
  "kernelspec": {
   "display_name": "Python 3 (ipykernel)",
   "language": "python",
   "name": "python3"
  },
  "language_info": {
   "codemirror_mode": {
    "name": "ipython",
    "version": 3
   },
   "file_extension": ".py",
   "mimetype": "text/x-python",
   "name": "python",
   "nbconvert_exporter": "python",
   "pygments_lexer": "ipython3",
   "version": "3.9.7"
  }
 },
 "nbformat": 4,
 "nbformat_minor": 5
}
